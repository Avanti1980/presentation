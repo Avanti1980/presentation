{
 "cells": [
  {
   "cell_type": "markdown",
   "metadata": {},
   "source": [
    "# 1 引子"
   ]
  },
  {
   "cell_type": "markdown",
   "metadata": {},
   "source": [
    "## Excel\n",
    "\n",
    "Excel表格是微软出的Office办公套件 相信大家都不陌生 尤其是在座各位在税务局工作的朋友 平时做数据处理、统计分析、辅助决策都能用得上\n",
    "\n",
    "![excel](img/4.jpg)"
   ]
  },
  {
   "cell_type": "markdown",
   "metadata": {},
   "source": [
    "## Excel\n",
    "\n",
    "Excel表格是微软出的office办公套件 相信大家都不陌生 尤其是在座各位在税务局工作的朋友 平时做数据处理、统计分析、辅助决策都能用得上\n",
    "\n",
    "![excel](img/2.jpg)"
   ]
  },
  {
   "cell_type": "markdown",
   "metadata": {},
   "source": [
    "## 为什么要学python？\n",
    "\n",
    "python是一种解释性语言：开发过程中没有编译过程，源代码不是直接翻译成机器语言，而是先翻译成中间代码，再由解释器对中间代码进行解释运行。\n",
    "\n",
    "python是交互式语言：意味着可以在输入一行代码后直接执行得到结果。\n",
    "\n",
    "python是面向对象语言：python支持面向对象的风格或代码封装在对象的编程技术。"
   ]
  },
  {
   "cell_type": "markdown",
   "metadata": {},
   "source": [
    "## 为什么要学python？\n",
    "\n",
    "python是一种解释性语言：开发过程中没有编译过程，源代码不是直接翻译成机器语言，而是先翻译成中间代码，再由解释器对中间代码进行解释运行。\n",
    "\n",
    "python是交互式语言：意味着可以在输入一行代码后直接执行得到结果。\n",
    "\n",
    "python是面向对象语言：python支持面向对象的风格或代码封装在对象的编程技术。"
   ]
  },
  {
   "cell_type": "markdown",
   "metadata": {},
   "source": [
    "# 2 python环境搭建 "
   ]
  },
  {
   "cell_type": "markdown",
   "metadata": {},
   "source": [
    "## （1） Windows用户 "
   ]
  },
  {
   "cell_type": "markdown",
   "metadata": {},
   "source": [
    "1.首先在python官网下载安装包https://www.python.org/\n",
    "![p1.PNG](attachment:p1.PNG)\n",
    "\n",
    "2.安装。安装过程中可以勾选“将python添加到环境变量”，安装完成后打开cmd输入python可以显示对应的版本号信息。如果没有勾选，会提示不是内部或外部命令，则还需要手动添加一下环境变量，在系统变量中加入python的安装路径即可。\n",
    "\n",
    "3.安装完成后在命令行输入“python”就可以运行python代码了。\n",
    "![p2.PNG](attachment:p2.PNG)"
   ]
  },
  {
   "cell_type": "markdown",
   "metadata": {},
   "source": [
    "## （2） Mac用户"
   ]
  },
  {
   "cell_type": "markdown",
   "metadata": {},
   "source": [
    "Mac系统自带python2，如果需要安装python3，在python官网下载对应安装包安装即可。（可以在命令行中输入“python”来查看是否安装成功）"
   ]
  },
  {
   "cell_type": "markdown",
   "metadata": {},
   "source": [
    "## 3 python中文编码"
   ]
  },
  {
   "cell_type": "markdown",
   "metadata": {},
   "source": [
    "print(2+3)"
   ]
  },
  {
   "cell_type": "markdown",
   "metadata": {},
   "source": [
    "print(\"你好，世界！\")"
   ]
  },
  {
   "cell_type": "markdown",
   "metadata": {},
   "source": [
    "上面两句语句分别打印了两句问候语句。这是python中输出语句的基本用法。此时看起来没有什么异常，但是在python2中，如果要输出中文，直接这样写是有问题的，终端会报错并提示字符是非ASCII字符，这是因为中文字符并非ASCII字符，需要在开头加如下语句即可："
   ]
  },
  {
   "cell_type": "markdown",
   "metadata": {},
   "source": [
    "#coding=utf-8"
   ]
  },
  {
   "cell_type": "markdown",
   "metadata": {},
   "source": [
    "# 4 python基础语法 "
   ]
  },
  {
   "cell_type": "markdown",
   "metadata": {},
   "source": [
    "###  变量"
   ]
  },
  {
   "cell_type": "markdown",
   "metadata": {},
   "source": [
    "上面看到了打印一句话的一种写法，还有另外一种写法："
   ]
  },
  {
   "cell_type": "markdown",
   "metadata": {},
   "source": [
    "sentence=\"Hello World!\"\n",
    "print(sentence)"
   ]
  },
  {
   "cell_type": "markdown",
   "metadata": {},
   "source": [
    "添加了一个名为sentence的变量，每个变量都存储了一些信息，在这里，存储的值为文本\"Hello World!\"。"
   ]
  },
  {
   "cell_type": "markdown",
   "metadata": {},
   "source": [
    "python中使用变量有一些规则和指南：\n",
    "\n",
    "变量名只能包含字母、数字和下划线，可以用字母或下划线开头，不能以数字开头；\n",
    "\n",
    "变量名不能包含空格；\n",
    "\n",
    "不要将python关键字和函数名用作变量名；\n",
    "\n",
    "变量名应既简短又具有描述性，比如height比h好。"
   ]
  },
  {
   "cell_type": "markdown",
   "metadata": {},
   "source": [
    "###  缩进"
   ]
  },
  {
   "cell_type": "markdown",
   "metadata": {},
   "source": [
    "使用python与其他语言最大的区别就是，python的代码块不用大括号{}来控制类、函数以及其他逻辑判断，而是用缩进来写模块。"
   ]
  },
  {
   "cell_type": "markdown",
   "metadata": {},
   "source": [
    "a=1\n",
    "if a==1:\n",
    "    print(\"Hello World!\")"
   ]
  },
  {
   "cell_type": "markdown",
   "metadata": {},
   "source": [
    "print语句缩进表示它是if语句结构之中的。"
   ]
  },
  {
   "cell_type": "markdown",
   "metadata": {},
   "source": [
    "###  注释"
   ]
  },
  {
   "cell_type": "markdown",
   "metadata": {},
   "source": [
    "单行注释用#开头"
   ]
  },
  {
   "cell_type": "markdown",
   "metadata": {},
   "source": [
    "print(\"Hello World!\") #print a sentence"
   ]
  },
  {
   "cell_type": "markdown",
   "metadata": {},
   "source": [
    "多行注释用三个单引号或三个双引号"
   ]
  },
  {
   "cell_type": "markdown",
   "metadata": {},
   "source": [
    "'''\n",
    "这是\n",
    "多行\n",
    "注释\n",
    "'''\n",
    "\n",
    "\"\"\"\n",
    "这也是\n",
    "多行\n",
    "注释\n",
    "\"\"\"\n",
    "\n",
    "print(\"Hello World\")"
   ]
  },
  {
   "cell_type": "markdown",
   "metadata": {},
   "source": [
    "# 5 python变量类型"
   ]
  },
  {
   "cell_type": "markdown",
   "metadata": {},
   "source": [
    "###  变量赋值"
   ]
  },
  {
   "cell_type": "markdown",
   "metadata": {},
   "source": [
    "a=1\n",
    "b=2\n",
    "c,d,e=5,6,7 #多变量赋值"
   ]
  },
  {
   "cell_type": "markdown",
   "metadata": {},
   "source": [
    "###  字符串"
   ]
  },
  {
   "cell_type": "markdown",
   "metadata": {},
   "source": [
    "字符串就是一系列字符，python中用引号括起的都是字符串，引号可以使单引号也可以是双引号。"
   ]
  },
  {
   "cell_type": "markdown",
   "metadata": {},
   "source": [
    "\"This is a string\"\n",
    "\n",
    "'This is also a string'"
   ]
  },
  {
   "cell_type": "markdown",
   "metadata": {},
   "source": [
    "可以对字符串进行取值："
   ]
  },
  {
   "cell_type": "markdown",
   "metadata": {},
   "source": [
    "s=\"This is a string\"\n",
    "print(s[2])\n",
    "print(s[-2])\n",
    "print(s[1:6])\n",
    "print(s[-5:-1])"
   ]
  },
  {
   "cell_type": "markdown",
   "metadata": {},
   "source": [
    "###  整数"
   ]
  },
  {
   "cell_type": "markdown",
   "metadata": {},
   "source": [
    "python中可对整数进行加减乘除运算："
   ]
  },
  {
   "cell_type": "markdown",
   "metadata": {},
   "source": [
    "3+4"
   ]
  },
  {
   "cell_type": "markdown",
   "metadata": {},
   "source": [
    "3-2"
   ]
  },
  {
   "cell_type": "markdown",
   "metadata": {},
   "source": [
    "5*4"
   ]
  },
  {
   "cell_type": "markdown",
   "metadata": {},
   "source": [
    "3/2"
   ]
  },
  {
   "cell_type": "markdown",
   "metadata": {},
   "source": [
    "###  浮点数"
   ]
  },
  {
   "cell_type": "markdown",
   "metadata": {},
   "source": [
    "带小数点的数字都称为浮点数。示例："
   ]
  },
  {
   "cell_type": "markdown",
   "metadata": {},
   "source": [
    "0.1+0.1"
   ]
  },
  {
   "cell_type": "markdown",
   "metadata": {},
   "source": [
    "3.5-2.1"
   ]
  },
  {
   "cell_type": "markdown",
   "metadata": {},
   "source": [
    "0.2*2"
   ]
  },
  {
   "cell_type": "markdown",
   "metadata": {},
   "source": [
    "2.4/2"
   ]
  },
  {
   "cell_type": "markdown",
   "metadata": {},
   "source": [
    "但是浮点数在计算时可能会出现一些错误，比如："
   ]
  },
  {
   "cell_type": "markdown",
   "metadata": {},
   "source": [
    "0.1+0.2"
   ]
  },
  {
   "cell_type": "markdown",
   "metadata": {},
   "source": [
    "可以使用python的decimal模块来解决这个问题："
   ]
  },
  {
   "cell_type": "markdown",
   "metadata": {},
   "source": [
    "from decimal import Decimal\n",
    "a=Decimal('0.1')\n",
    "b=Decimal('0.2')\n",
    "print(a+b)"
   ]
  },
  {
   "cell_type": "markdown",
   "metadata": {},
   "source": [
    "# 6 python运算符 "
   ]
  },
  {
   "cell_type": "markdown",
   "metadata": {},
   "source": [
    "###  算数运算符"
   ]
  },
  {
   "cell_type": "markdown",
   "metadata": {},
   "source": [
    "除上面提到的加减乘除，python还提供了以下运算符："
   ]
  },
  {
   "cell_type": "markdown",
   "metadata": {},
   "source": [
    "13%5 #取模运算"
   ]
  },
  {
   "cell_type": "markdown",
   "metadata": {},
   "source": [
    "2**3 #乘方运算"
   ]
  },
  {
   "cell_type": "markdown",
   "metadata": {},
   "source": [
    "13//5 #取整运算"
   ]
  },
  {
   "cell_type": "markdown",
   "metadata": {},
   "source": [
    "###  比较运算符"
   ]
  },
  {
   "cell_type": "markdown",
   "metadata": {},
   "source": [
    "介绍比较运算符之前，先介绍一种数据类型，布尔类型，它只有True和False两个值，用来表示比较运算的结果。"
   ]
  },
  {
   "cell_type": "markdown",
   "metadata": {},
   "source": [
    "a,b,c,d=10,10,20,21\n",
    "a==b"
   ]
  },
  {
   "cell_type": "markdown",
   "metadata": {},
   "source": [
    "a!=b"
   ]
  },
  {
   "cell_type": "markdown",
   "metadata": {},
   "source": [
    "a<c"
   ]
  },
  {
   "cell_type": "markdown",
   "metadata": {},
   "source": [
    "c<=d"
   ]
  },
  {
   "cell_type": "markdown",
   "metadata": {},
   "source": [
    "###  赋值运算符"
   ]
  },
  {
   "cell_type": "markdown",
   "metadata": {},
   "source": [
    "除了直接用=来对变量赋值，还可以在=前加一个算数运算符来进行赋值："
   ]
  },
  {
   "cell_type": "markdown",
   "metadata": {},
   "source": [
    "a=10\n",
    "a+=5 #等价于a=a+5\n",
    "print(a)"
   ]
  },
  {
   "cell_type": "markdown",
   "metadata": {},
   "source": [
    "a/=3 #等价于a=a/3\n",
    "print(a)"
   ]
  },
  {
   "cell_type": "markdown",
   "metadata": {},
   "source": [
    "a**=2 #等价于a=a**2\n",
    "print(a)"
   ]
  },
  {
   "cell_type": "markdown",
   "metadata": {},
   "source": [
    "###  逻辑运算符"
   ]
  },
  {
   "cell_type": "markdown",
   "metadata": {},
   "source": [
    "包括and，or，not分别表示与，或，非："
   ]
  },
  {
   "cell_type": "markdown",
   "metadata": {},
   "source": [
    "True and False"
   ]
  },
  {
   "cell_type": "markdown",
   "metadata": {},
   "source": [
    "True or False"
   ]
  },
  {
   "cell_type": "markdown",
   "metadata": {},
   "source": [
    "not (False or False)"
   ]
  },
  {
   "cell_type": "markdown",
   "metadata": {},
   "source": [
    "逻辑运算符两边也可以是数字："
   ]
  },
  {
   "cell_type": "markdown",
   "metadata": {},
   "source": [
    "表达式a and b:如果a为False，表达式返回False，否则返回b的值\n",
    "\n",
    "表达式a or b:如果a为非0，表达式返回a的值，否则返回b的值"
   ]
  },
  {
   "cell_type": "markdown",
   "metadata": {},
   "source": [
    "False and 5"
   ]
  },
  {
   "cell_type": "markdown",
   "metadata": {},
   "source": [
    "3 and 0"
   ]
  },
  {
   "cell_type": "markdown",
   "metadata": {},
   "source": [
    "5 or False"
   ]
  },
  {
   "cell_type": "markdown",
   "metadata": {},
   "source": [
    "0 or 3"
   ]
  },
  {
   "cell_type": "markdown",
   "metadata": {},
   "source": [
    "###  位运算符"
   ]
  },
  {
   "cell_type": "markdown",
   "metadata": {},
   "source": [
    "按位运算符是把数字看作二进制来进行计算的："
   ]
  },
  {
   "cell_type": "markdown",
   "metadata": {},
   "source": [
    "a=6 #0000 0110\n",
    "b=12 #0000 1100"
   ]
  },
  {
   "cell_type": "markdown",
   "metadata": {},
   "source": [
    "a&b #按位与"
   ]
  },
  {
   "cell_type": "markdown",
   "metadata": {},
   "source": [
    "a|b #按位或"
   ]
  },
  {
   "cell_type": "markdown",
   "metadata": {},
   "source": [
    "a^b #按位亦或"
   ]
  },
  {
   "cell_type": "markdown",
   "metadata": {},
   "source": [
    "~a #按位取反"
   ]
  },
  {
   "cell_type": "markdown",
   "metadata": {},
   "source": [
    "这里做一解释，a取反后得到1111 1001，计算机中负数以补码形式表示，所以左边的一个1表示负数，然后补码求原码需要取反加1，\n",
    "即0000 0110 + 1=0000 0111=7，加上符号就是-7。"
   ]
  },
  {
   "cell_type": "markdown",
   "metadata": {},
   "source": [
    "a>>1 #右移"
   ]
  },
  {
   "cell_type": "markdown",
   "metadata": {},
   "source": [
    "b<<1 #左移"
   ]
  },
  {
   "cell_type": "markdown",
   "metadata": {},
   "source": [
    "###  成员运算符"
   ]
  },
  {
   "cell_type": "markdown",
   "metadata": {},
   "source": [
    "m=1\n",
    "n=5\n",
    "list_1=[1,2,3,4]"
   ]
  },
  {
   "cell_type": "markdown",
   "metadata": {},
   "source": [
    "m in list_1 #列表中是否包含m的值"
   ]
  },
  {
   "cell_type": "markdown",
   "metadata": {},
   "source": [
    "n not in list_1 #列表中是否不包含n的值"
   ]
  },
  {
   "cell_type": "markdown",
   "metadata": {},
   "source": [
    "string_1='hello'\n",
    "c='w'"
   ]
  },
  {
   "cell_type": "markdown",
   "metadata": {},
   "source": [
    "c in string_1"
   ]
  },
  {
   "cell_type": "markdown",
   "metadata": {},
   "source": [
    "###  身份运算符"
   ]
  },
  {
   "cell_type": "markdown",
   "metadata": {},
   "source": [
    "身份运算符is和is not用于比较两个对象的存储单元，即是否引用自同一个对象："
   ]
  },
  {
   "cell_type": "markdown",
   "metadata": {},
   "source": [
    "m=10\n",
    "n=10"
   ]
  },
  {
   "cell_type": "markdown",
   "metadata": {},
   "source": [
    "m is n"
   ]
  },
  {
   "cell_type": "markdown",
   "metadata": {},
   "source": [
    "m='hello'\n",
    "n='hello'"
   ]
  },
  {
   "cell_type": "markdown",
   "metadata": {},
   "source": [
    "m is not n"
   ]
  },
  {
   "cell_type": "markdown",
   "metadata": {},
   "source": [
    "is和==的区别在于，==比较的是引用变量的值是否相等，is判断两个引用变量是否是同一个（同一个内存空间）："
   ]
  },
  {
   "cell_type": "markdown",
   "metadata": {},
   "source": [
    "list_1=[1,2,3,4]\n",
    "list_2=list_1[:] #将list_1复制一份赋值给list_2"
   ]
  },
  {
   "cell_type": "markdown",
   "metadata": {},
   "source": [
    "list_1==list_2"
   ]
  },
  {
   "cell_type": "markdown",
   "metadata": {},
   "source": [
    "list_1 is list_2"
   ]
  },
  {
   "cell_type": "markdown",
   "metadata": {},
   "source": [
    "###  运算符优先级"
   ]
  },
  {
   "cell_type": "markdown",
   "metadata": {},
   "source": [
    "运算符优先级由高到低如下所示："
   ]
  },
  {
   "cell_type": "markdown",
   "metadata": {},
   "source": [
    "**\t               指数(最高优先级)\n",
    "~ + -\t             按位翻转,一元加号和减号(正负号)\n",
    "* / % //\t          乘，除，取模和取整除\n",
    "+ -\t                加法减法\n",
    ">> <<\t             右移，左移运算符\n",
    "&\t                位'AND'\n",
    "^ |\t                位运算符\n",
    "<= < > >=\t           比较运算符\n",
    "<> == !=\t           等于运算符\n",
    "= %= /= //= -= += *= **=\t赋值运算符\n",
    "is is not\t           身份运算符\n",
    "in not in\t           成员运算符\n",
    "not and or\t           逻辑运算符"
   ]
  },
  {
   "cell_type": "markdown",
   "metadata": {},
   "source": [
    "# 7 python条件语句 "
   ]
  },
  {
   "cell_type": "markdown",
   "metadata": {},
   "source": [
    "if语句后跟一个条件测试，若条件表达式的值为True，则执行对应的语句："
   ]
  },
  {
   "cell_type": "markdown",
   "metadata": {},
   "source": [
    "age=20\n",
    "if age>=18:\n",
    "    print(\"You are an adult.\")"
   ]
  },
  {
   "cell_type": "markdown",
   "metadata": {},
   "source": [
    "通常需要在测试没有通过时执行另一个操作："
   ]
  },
  {
   "cell_type": "markdown",
   "metadata": {},
   "source": [
    "age=12\n",
    "if age>=18:\n",
    "    print(\"You are an adult.\")\n",
    "else:\n",
    "    print(\"You are not an adult.\")"
   ]
  },
  {
   "cell_type": "markdown",
   "metadata": {},
   "source": [
    "当需要测试的情形超过两个，则需要使用if-elif-else结构："
   ]
  },
  {
   "cell_type": "markdown",
   "metadata": {},
   "source": [
    "age=8\n",
    "\n",
    "if age>=18:\n",
    "    price=100\n",
    "elif age>=12:\n",
    "    price=50\n",
    "elif age>=6:\n",
    "    price=25\n",
    "else:\n",
    "    price=0\n",
    "\n",
    "print(\"The price is:\")\n",
    "print(price)"
   ]
  },
  {
   "cell_type": "markdown",
   "metadata": {},
   "source": [
    "# 8 循环语句 "
   ]
  },
  {
   "cell_type": "markdown",
   "metadata": {},
   "source": [
    "循环语句允许多次执行一个语句或一组语句"
   ]
  },
  {
   "cell_type": "markdown",
   "metadata": {},
   "source": [
    "###  while循环"
   ]
  },
  {
   "cell_type": "markdown",
   "metadata": {},
   "source": [
    "i=5\n",
    "print(\"倒计时：\")\n",
    "while i>=0:\n",
    "    print(i)\n",
    "    i-=1"
   ]
  },
  {
   "cell_type": "markdown",
   "metadata": {},
   "source": [
    "###  break、continue和pass语句"
   ]
  },
  {
   "cell_type": "markdown",
   "metadata": {},
   "source": [
    "break语句用来跳出循环："
   ]
  },
  {
   "cell_type": "markdown",
   "metadata": {},
   "source": [
    "while True:\n",
    "    name=input(\"Input your name(enter 'quit' when yor want to quit):\") #这里input()用来接收用户输入的内容，括号中的字符串为提示信息\n",
    "    if name=='quit':\n",
    "        break\n",
    "    else:\n",
    "        print('Hello,'+name)"
   ]
  },
  {
   "cell_type": "markdown",
   "metadata": {},
   "source": [
    "continue语句返回到循环开头，忽略掉本次循环的剩余部分，根据条件测试结果决定是否继续执行循环："
   ]
  },
  {
   "cell_type": "markdown",
   "metadata": {},
   "source": [
    "number=0\n",
    "while number<=10: #输出1-10的偶数\n",
    "    number+=1\n",
    "    if number%2!=0:\n",
    "        continue\n",
    "    print(number)"
   ]
  },
  {
   "cell_type": "markdown",
   "metadata": {},
   "source": [
    "pass语句是空语句，不做任何事情，用作占位语句："
   ]
  },
  {
   "cell_type": "markdown",
   "metadata": {},
   "source": [
    "number=1\n",
    "while number<=10: #输出1-10的偶数\n",
    "    if number%2!=0:\n",
    "        pass\n",
    "    else:\n",
    "        print(number)\n",
    "    number+=1"
   ]
  },
  {
   "cell_type": "markdown",
   "metadata": {},
   "source": [
    "###  for循环"
   ]
  },
  {
   "cell_type": "markdown",
   "metadata": {},
   "source": [
    "for循环可以遍历序列的变量："
   ]
  },
  {
   "cell_type": "markdown",
   "metadata": {},
   "source": [
    "word='elephant'\n",
    "for letter in word: #遍历字符串的每一个字符\n",
    "    print(letter)"
   ]
  },
  {
   "cell_type": "markdown",
   "metadata": {},
   "source": [
    "animals=['elephant','tiger','lion','shark']\n",
    "for animal in animals: #遍历列表\n",
    "    print(animal)"
   ]
  },
  {
   "cell_type": "markdown",
   "metadata": {},
   "source": []
  }
 ],
 "metadata": {
  "kernelspec": {
   "display_name": "Python 3",
   "language": "python",
   "name": "python3"
  },
  "language_info": {
   "codemirror_mode": {
    "name": "ipython",
    "version": 3
   },
   "file_extension": ".py",
   "mimetype": "text/x-python",
   "name": "python",
   "nbconvert_exporter": "python",
   "pygments_lexer": "ipython3",
   "version": "3.7.4"
  }
 },
 "nbformat": 4,
 "nbformat_minor": 4
}
