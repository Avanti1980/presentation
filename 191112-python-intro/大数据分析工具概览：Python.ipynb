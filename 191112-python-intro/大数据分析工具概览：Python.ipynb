{
 "cells": [
  {
   "cell_type": "markdown",
   "metadata": {},
   "source": [
    "# 1 引子"
   ]
  },
  {
   "cell_type": "markdown",
   "metadata": {},
   "source": [
    "## Excel表格\n",
    "\n",
    "Excel表格是微软出的Office办公套件，相信大家都不陌生，尤其是在座各位在税务局工作的朋友，平时做数据处理、统计分析、辅助决策都能用得上\n",
    "\n",
    "![excel](img/4.jpg)"
   ]
  },
  {
   "cell_type": "markdown",
   "metadata": {},
   "source": [
    "## 函数公式\n",
    "\n",
    "平时做财务报表，难免要用到一些加减乘除数学运算，如果全靠自己手动算，然后再输入，不可避免地会出现小错误， 所以我们希望报表能自动计算，于是就有了Excel公式，但Excel的公式不太好写，而且也只能处理较简单的逻辑\n",
    "\n",
    "![formula](img/2.jpg)"
   ]
  },
  {
   "cell_type": "markdown",
   "metadata": {},
   "source": [
    "## VBA编程\n",
    "\n",
    "较复杂的逻辑就得靠VBA编程来实现了，VBA全称叫Visual Basic for Applications，这是微软开发的用来扩展Windows应用程序功能的一种语言\n",
    "\n",
    "![VBA](img/1.jpg)\n",
    "\n",
    "但现阶段学VBA并不是一个明智的选择：\n",
    "- **不容易学**，没有好用的开发环境，错误调试不方便\n",
    "- **性能不行**，在数据量大的情况下运行很耗时 \n",
    "- **适用面窄**，只能服务于Windows系统\n",
    "\n",
    "既然要学一门编程语言，为何不与时俱进，学一门最时髦最先进的语言呢？在当前的国际形势下，自主可控的国产操作系统是大势所趋，大概率是Linux的某个发行版，Windows终将被放弃！"
   ]
  },
  {
   "cell_type": "markdown",
   "metadata": {},
   "source": [
    "## 高级程序语言\n",
    "\n",
    "![language](img/3.jpeg)\n",
    "\n",
    "计算机行业经过几十年的高速发展，诞生了形形色色的高级程序语言，它们都是应各种不同的需求而诞生，比如\n",
    "- C / C++：高效，系统编程，科学计算\n",
    "- Java：跨平台特性好，网络编程\n",
    "- JavaScript / PHP：交互性好，嵌入浏览器"
   ]
  },
  {
   "cell_type": "markdown",
   "metadata": {},
   "source": [
    "## 为什么要学Python？\n",
    "\n",
    "网上有很多人说：“人生苦短，我用Python！”，为啥？最直接的原因是**简单好用**，对非程序员友好\n",
    "\n",
    "具体来说是：\n",
    "- **简单轻量**：学起来快，稍有编程经验的人一周就能上手，不像C / C++那么heavy\n",
    "- **功能强大**：Web开发、科学计算、网络爬虫、数据分析、量化交易，几乎无所不能\n",
    "- **社区活跃**：大量的第三方库让你永远可以站在巨人的肩膀上，无需浪费时间重复造轮子\n",
    "- **免费使用**：任何人、组织、机构都可以免费使用Python，不像Java那么商业化\n",
    "\n",
    "Python的劣势：\n",
    "- 运行慢？混合编程，底层计算用C / C++ / Fortran来实现\n",
    "- 不适合大项目？知乎、豆瓣、Youtube、Instagram\n",
    "- 版本多、依赖容易崩？Windows下可以用Anaconda管理，类Unix系统下可以用Pacman、Homebrew等包管理器"
   ]
  },
  {
   "cell_type": "markdown",
   "metadata": {},
   "source": [
    "## 一个例子\n",
    "\n",
    "C++：\n",
    "```C++\n",
    "#include <iostream>\n",
    "int main() { \n",
    "    std::cout << \"你好，华科！\"; return 0; \n",
    "}\n",
    "```\n",
    "\n",
    "Pyhton：\n",
    "```python\n",
    "print(\"你好，华科！\")\n",
    "```\n",
    "\n",
    "同样是打印“你好，华科！”到屏幕，对比可以看出Python的简洁\n",
    "\n",
    "<font color=\"blue\">动手试一下：</font>"
   ]
  },
  {
   "cell_type": "code",
   "execution_count": 4,
   "metadata": {},
   "outputs": [
    {
     "name": "stdout",
     "output_type": "stream",
     "text": [
      "你好，华科！\n"
     ]
    }
   ],
   "source": [
    "print(\"你好，华科！\")"
   ]
  },
  {
   "cell_type": "markdown",
   "metadata": {},
   "source": [
    "## 编译型语言 vs. 解释性语言\n",
    "\n",
    "- 编译型语言：事先将高级程序语言翻译成机器语言（俗称编译），然后再运行，执行效率高\n",
    "\n",
    "- 解释性语言：执行一句翻译一句，不需要先编译，交互性好，执行效率低\n",
    "\n",
    "C / C++属于前者，Python属于后者，由于它有很好的交互性，所以我选择不用ppt，而是这样一个方便交互和展示的形式"
   ]
  },
  {
   "cell_type": "markdown",
   "metadata": {},
   "source": [
    "# 2 环境搭建"
   ]
  },
  {
   "cell_type": "markdown",
   "metadata": {},
   "source": [
    "## Windows / Mac\n",
    "\n",
    "1. 在[Python官网](https://www.python.org/downloads/release/python-380/)分别下载 Windows x86-64 executable installer 和 macOS 64-bit installer 安装包，最新版本是Python3.8：\n",
    "![install](img/5.png)\n",
    "\n",
    "2. Windows下安装时注意勾选**将Python添加到环境变量**，否则在非系统路径下无法调用Python。"
   ]
  },
  {
   "cell_type": "markdown",
   "metadata": {},
   "source": [
    "## Linux\n",
    "\n",
    "Linux下比较简单，各个发行版的官方软件仓库里都有Python，直接在Shell中安装即可，有的发行版甚至装机自带\n",
    "- Arch系：`sudo pacman -S python`\n",
    "- Debian系：`sudo apt-get install python3.*`\n",
    "- RedHat系：`sudo yum install python3*`\n",
    "\n",
    "讲者的电脑用的是Arch Linux，所以安装过程如下（官方软件仓库里还没更新到3.8，版本还是3.7.4）：\n",
    "![arch-python-install](img/6.png)\n",
    "\n",
    "安装成功后，Windows下进入命令行，Mac / Linux进终端，输入`python`回车出现如下界面就代表环境搭建成功了：\n",
    "![arch-python](img/7.png)"
   ]
  },
  {
   "cell_type": "markdown",
   "metadata": {},
   "source": [
    "## 开发环境\n",
    "\n",
    "直接在命令行里写代码显然是痛苦且低效的，推荐两个开发环境：\n",
    "\n",
    "1. vscode + python + tab nine + code runner + bracket pair colorizer，vscode是现在非常流行的文本编辑器，拥有丰富的第三方插件，装上后面四个插件就可以高效地写代码了，tab nine负责智能补全，bracket pair colorizer括号配对着色，code runner右键直接运行\n",
    "\n",
    "![code](img/17.png)\n",
    "\n",
    "2. jupyter lab / notebook，现在用的就是这个，交互性好，可以同时运行Python代码和显示Markdown文本，非常适合用来展示"
   ]
  },
  {
   "cell_type": "markdown",
   "metadata": {},
   "source": [
    "# 3 基础知识\n",
    "\n",
    "除了在命令行交互环境中运行外，还可以将若干条python语句写在一个*.py文件中，然后用命令`python *.py`运行\n",
    "\n",
    "如下图所示，在untitled.py文件中写入了`print(\"你好，华科！\")`和`print(2+3)`两条打印语句\n",
    "\n",
    "![Shell-run-python](img/8.png)"
   ]
  },
  {
   "cell_type": "markdown",
   "metadata": {},
   "source": [
    "## 保留字\n",
    "\n",
    "保留字都有特殊含义，不能用来命名别的变量，前面见过的用来打印输出的`print`就是一个保留字\n",
    "\n",
    "<table style=\"text-align:center;font-size:30px\">\n",
    "    <tbody>\n",
    "        <tr>\n",
    "            <td>and</td>\n",
    "            <td>exec</td>\n",
    "            <td>not</td>\n",
    "            <td>assert</td>\n",
    "            <td>finally</td>\n",
    "            <td>or</td>\n",
    "            <td>break</td>\n",
    "            <td>for</td>\n",
    "            <td>pass</td>\n",
    "            <td>class</td>\n",
    "        </tr>\n",
    "        <tr>\n",
    "            <td>from</td>\n",
    "            <td style=\"color:blue\">print</td>\n",
    "            <td>continue</td>\n",
    "            <td>global</td>\n",
    "            <td>raise</td>\n",
    "            <td>def</td>\n",
    "            <td>if</td>\n",
    "            <td>return</td>\n",
    "            <td>del</td>\n",
    "            <td>import</td>\n",
    "        </tr>\n",
    "        <tr>\n",
    "            <td>try</td>\n",
    "            <td>elif</td>\n",
    "            <td>in</td>\n",
    "            <td>while</td>\n",
    "            <td>else</td>\n",
    "            <td>is</td>\n",
    "            <td>with</td>\n",
    "            <td>except</td>\n",
    "            <td>lambda</td>\n",
    "            <td>yield</td>\n",
    "        </tr>\n",
    "    </tbody>\n",
    "</table>"
   ]
  },
  {
   "cell_type": "markdown",
   "metadata": {},
   "source": [
    "## 行和缩进\n",
    "\n",
    "与C / C++不同，Python的代码块不使用大括号`{}`来判断，而是用缩进来表示\n",
    "\n",
    "<font color=\"blue\">动手试一下：</font>"
   ]
  },
  {
   "cell_type": "code",
   "execution_count": 359,
   "metadata": {},
   "outputs": [
    {
     "name": "stdout",
     "output_type": "stream",
     "text": [
      "3\n"
     ]
    }
   ],
   "source": [
    "if 3 > 2:\n",
    "    print(3)\n",
    "else:\n",
    "    print(2)\n",
    "    print(1)  # 与else相关"
   ]
  },
  {
   "cell_type": "code",
   "execution_count": 356,
   "metadata": {},
   "outputs": [
    {
     "name": "stdout",
     "output_type": "stream",
     "text": [
      "3\n",
      "1\n"
     ]
    }
   ],
   "source": [
    "if 3 > 2:\n",
    "    print(3)\n",
    "else:\n",
    "    print(2)\n",
    "print(1)  # 与else无关"
   ]
  },
  {
   "cell_type": "markdown",
   "metadata": {},
   "source": [
    "## 引号\n",
    "\n",
    "Python使用单引号`'`、双引号`\"`、三引号`'''`或`\"\"\"`来表示字符串，引号的开始与结束必须相同\n",
    "\n",
    "其中三引号可以由多行组成，常用于做注释，单行注释也可用`#`来表示\n",
    "\n",
    "<font color=\"blue\">动手试一下：</font>"
   ]
  },
  {
   "cell_type": "code",
   "execution_count": 360,
   "metadata": {},
   "outputs": [
    {
     "name": "stdout",
     "output_type": "stream",
     "text": [
      "你好\n"
     ]
    }
   ],
   "source": [
    "\"\"\"\n",
    "这个程序用来测试缩进\n",
    "这个程序用来测试缩进\n",
    "\"\"\"\n",
    "# 这个程序用来测试缩进\n",
    "if 3 > 2:\n",
    "    print('你好')\n",
    "else:\n",
    "    print(\"华科\")"
   ]
  },
  {
   "cell_type": "markdown",
   "metadata": {},
   "source": [
    "# 4 基础语法 "
   ]
  },
  {
   "cell_type": "markdown",
   "metadata": {},
   "source": [
    "## 变量\n",
    "\n",
    "- 数值型变量 \n",
    "\n",
    "<font color=\"blue\">动手试一下：</font>"
   ]
  },
  {
   "cell_type": "code",
   "execution_count": 21,
   "metadata": {},
   "outputs": [
    {
     "name": "stdout",
     "output_type": "stream",
     "text": [
      "5\n"
     ]
    }
   ],
   "source": [
    "a = 2\n",
    "b = 3\n",
    "print(a+b)"
   ]
  },
  {
   "cell_type": "markdown",
   "metadata": {},
   "source": [
    "- 字符串变量 \n",
    "\n",
    "<font color=\"blue\">动手试一下：</font>"
   ]
  },
  {
   "cell_type": "code",
   "execution_count": 18,
   "metadata": {},
   "outputs": [
    {
     "name": "stdout",
     "output_type": "stream",
     "text": [
      "你好，华科！\n"
     ]
    }
   ],
   "source": [
    "a = \"你好\"\n",
    "b = \"华科\"\n",
    "print(a + \"，\" + b + \"！\")"
   ]
  },
  {
   "cell_type": "code",
   "execution_count": 29,
   "metadata": {},
   "outputs": [
    {
     "name": "stdout",
     "output_type": "stream",
     "text": [
      "你好，华科！\n",
      "6\n",
      "你\n",
      "，华科\n",
      "，华科！\n",
      "你好，华科！你好，华科！\n",
      "你好，华科！你好，武汉！\n"
     ]
    }
   ],
   "source": [
    "str = \"你好，华科！\"         # 一共6个字符 0:你 1:好 2:，3:华 4:科 5:！\n",
    "print(str)                 # 完整字符串\n",
    "print(len(str))            # 字符串长度\n",
    "print(str[0])              # 字符串中的第一个字符\n",
    "print(str[2:5])            # 字符串中第3~5个\n",
    "print(str[2:])             # 从第3个字符开始到结束\n",
    "print(str * 2)             # 输出字符串两次\n",
    "print(str + \"你好，武汉！\")  # 连接字符串 上一个例子已经用过"
   ]
  },
  {
   "cell_type": "markdown",
   "metadata": {},
   "source": [
    "## 列表\n",
    "\n",
    "字符串是一种特殊的列表，**列表允许元素不同类型**\n",
    "\n",
    "<font color=\"blue\">动手试一下：</font>"
   ]
  },
  {
   "cell_type": "code",
   "execution_count": 18,
   "metadata": {},
   "outputs": [
    {
     "name": "stdout",
     "output_type": "stream",
     "text": [
      "['你好', 2, '华科', 3]\n",
      "你好\n",
      "[2, '华科']\n",
      "['华科', 3]\n",
      "['你好', 2, '华科', 3, '你好', 2, '华科', 3]\n",
      "['你好', 2, '华科', 3, 'Hello', 'HUST']\n",
      "[['你好', 2, '华科', 3], [['Hello', 'HUST']]]\n"
     ]
    }
   ],
   "source": [
    "list1 = [\"你好\", 2 , \"华科\", 3]  # 列表用中括号[]\n",
    "list2 = [\"Hello\", 'HUST']\n",
    " \n",
    "print(list1)           # 完整列表\n",
    "print(list1[0])        # 列表的第一个元素\n",
    "print(list1[1:3])      # 第2~3个元素 \n",
    "print(list1[2:])       # 从第3个元素开始到结束\n",
    "print(list1 * 2)       # 输出列表两次\n",
    "print(list1 + list2)   # 连接列表\n",
    "print([list1,[list2]]) # 列表的元素可以还是列表 即嵌套"
   ]
  },
  {
   "cell_type": "markdown",
   "metadata": {},
   "source": [
    "排序，求和\n",
    "\n",
    "<font color=\"blue\">动手试一下：</font>"
   ]
  },
  {
   "cell_type": "code",
   "execution_count": 246,
   "metadata": {},
   "outputs": [
    {
     "name": "stdout",
     "output_type": "stream",
     "text": [
      "[1, 2, 3, 4]\n",
      "[4, 3, 2, 1]\n",
      "10\n"
     ]
    }
   ],
   "source": [
    "list = [2, 4, 1, 3]\n",
    "list.sort() # 默认升序\n",
    "print(list)\n",
    "\n",
    "list = [2, 4, 1, 3]\n",
    "list.sort(reverse = True) # 降序\n",
    "print(list)\n",
    "\n",
    "print(sum(list))  # 求和"
   ]
  },
  {
   "cell_type": "markdown",
   "metadata": {},
   "source": [
    "## 字典\n",
    "\n",
    "列表是有序的对象集合，字典是无序的对象集合，由**索引**（key）和它对应的**值**（value）组成\n",
    "\n",
    "字典当中的元素是通过**键**来存取的，而不是通过**下标**存取\n",
    "\n",
    "<font color=\"blue\">动手试一下：</font>"
   ]
  },
  {
   "cell_type": "code",
   "execution_count": 31,
   "metadata": {},
   "outputs": [
    {
     "name": "stdout",
     "output_type": "stream",
     "text": [
      "你好\n",
      "华科\n",
      "dict_keys(['Hello', 'HUST'])\n",
      "dict_values(['你好', '华科'])\n"
     ]
    }
   ],
   "source": [
    "dict = {}  # 字典用大括号{}\n",
    "dict['Hello'] = \"你好\"\n",
    "dict[\"HUST\"] = \"华科\"\n",
    "\n",
    "print(dict['Hello'])    # 输出键为Hello的值\n",
    "print(dict['HUST'])     # 输出键为HUST的值\n",
    "print(dict.keys())      # 输出所有键\n",
    "print(dict.values())    # 输出所有值"
   ]
  },
  {
   "cell_type": "markdown",
   "metadata": {},
   "source": [
    "# 5 运算"
   ]
  },
  {
   "cell_type": "markdown",
   "metadata": {},
   "source": [
    "##  算数运算"
   ]
  },
  {
   "cell_type": "markdown",
   "metadata": {},
   "source": [
    "- 加法，减法，乘法，除法，乘方\n",
    "\n",
    "<font color=\"blue\">动手试一下：</font>"
   ]
  },
  {
   "cell_type": "code",
   "execution_count": 65,
   "metadata": {},
   "outputs": [
    {
     "data": {
      "text/plain": [
       "(3, 1, 6, 0.6, 8, 2.0)"
      ]
     },
     "execution_count": 65,
     "metadata": {},
     "output_type": "execute_result"
    }
   ],
   "source": [
    "1 + 2, 2 - 1, 2 * 3, 3 / 5, 2**3, 4**(1/2)"
   ]
  },
  {
   "cell_type": "markdown",
   "metadata": {},
   "source": [
    "- 取模，取整\n",
    "\n",
    "<font color=\"blue\">动手试一下：</font>"
   ]
  },
  {
   "cell_type": "code",
   "execution_count": 365,
   "metadata": {},
   "outputs": [
    {
     "name": "stdout",
     "output_type": "stream",
     "text": [
      "1\n",
      "3\n",
      "4\n",
      "2\n"
     ]
    }
   ],
   "source": [
    "a = 13%3; b = 13%5; c = 13//3; d = 13//5\n",
    "print(a)\n",
    "print(b)\n",
    "print(c)\n",
    "print(d)"
   ]
  },
  {
   "cell_type": "markdown",
   "metadata": {},
   "source": [
    "- 对数\n",
    "\n",
    "<font color=\"blue\">动手试一下：</font>"
   ]
  },
  {
   "cell_type": "code",
   "execution_count": 361,
   "metadata": {},
   "outputs": [
    {
     "data": {
      "text/plain": [
       "(3.0, 2.0, 5.0)"
      ]
     },
     "execution_count": 361,
     "metadata": {},
     "output_type": "execute_result"
    }
   ],
   "source": [
    "'''\n",
    "引入Python自带的math模块\n",
    "import也是Python保留字\n",
    "''' \n",
    "import math    \n",
    "math.log2(8), math.log10(100), math.log(math.exp(5))"
   ]
  },
  {
   "cell_type": "markdown",
   "metadata": {},
   "source": [
    "**通过按tab健提示可以看到math模块里还有（反）三角函数**\n",
    "\n",
    "![tab-math](img/10.png)"
   ]
  },
  {
   "cell_type": "markdown",
   "metadata": {},
   "source": [
    "- 正弦，余弦，正切\n",
    "\n",
    "<font color=\"blue\">动手试一下：</font>"
   ]
  },
  {
   "cell_type": "code",
   "execution_count": 362,
   "metadata": {},
   "outputs": [
    {
     "data": {
      "text/plain": [
       "(1.0, 6.123233995736766e-17, 0.9999999999999999)"
      ]
     },
     "execution_count": 362,
     "metadata": {},
     "output_type": "execute_result"
    }
   ],
   "source": [
    "math.sin(math.pi/2), math.cos(math.pi/2), math.tan(math.pi/4)"
   ]
  },
  {
   "cell_type": "markdown",
   "metadata": {},
   "source": [
    "- 向上取整，向下取整\n",
    "\n",
    "<font color=\"blue\">动手试一下：</font>"
   ]
  },
  {
   "cell_type": "code",
   "execution_count": 69,
   "metadata": {},
   "outputs": [
    {
     "data": {
      "text/plain": [
       "(4, 3)"
      ]
     },
     "execution_count": 69,
     "metadata": {},
     "output_type": "execute_result"
    }
   ],
   "source": [
    "math.ceil(3.6), math.floor(3.6)"
   ]
  },
  {
   "cell_type": "markdown",
   "metadata": {},
   "source": [
    "##  比较运算"
   ]
  },
  {
   "cell_type": "markdown",
   "metadata": {},
   "source": [
    "判断某条语句是否成立"
   ]
  },
  {
   "cell_type": "code",
   "execution_count": 366,
   "metadata": {},
   "outputs": [
    {
     "name": "stdout",
     "output_type": "stream",
     "text": [
      "1 3 4 2\n",
      "a小于b\n",
      "a小于等于b\n",
      "a等于1\n",
      "a不等于b\n"
     ]
    }
   ],
   "source": [
    "print(a,b,c,d)  # 上面取模取整的输出\n",
    "if a < b:\n",
    "    print(\"a小于b\")\n",
    "if a <= b:\n",
    "    print(\"a小于等于b\")\n",
    "if a == 1:\n",
    "    print(\"a等于1\")\n",
    "if a != b:\n",
    "    print(\"a不等于b\")"
   ]
  },
  {
   "cell_type": "markdown",
   "metadata": {},
   "source": [
    "大于`>`和大于等于`>=`同理，不赘述"
   ]
  },
  {
   "cell_type": "markdown",
   "metadata": {},
   "source": [
    "## 逻辑运算\n",
    "\n",
    "- 与：全部都成立才算成立\n",
    "\n",
    "<font color=\"blue\">动手试一下：</font>"
   ]
  },
  {
   "cell_type": "code",
   "execution_count": 47,
   "metadata": {},
   "outputs": [
    {
     "name": "stdout",
     "output_type": "stream",
     "text": [
      "a小于b 和 c大于d 同时成立\n"
     ]
    }
   ],
   "source": [
    "if a < b and c > d:\n",
    "    print(\"a小于b 和 c大于d 同时成立\")\n",
    "if a < b and c <= d:\n",
    "    print(\"a小于b 和 c小于等于d 同时成立\")"
   ]
  },
  {
   "cell_type": "markdown",
   "metadata": {},
   "source": [
    "- 或：有一个成立就成立\n",
    "\n",
    "<font color=\"blue\">动手试一下：</font>"
   ]
  },
  {
   "cell_type": "code",
   "execution_count": 49,
   "metadata": {},
   "outputs": [
    {
     "name": "stdout",
     "output_type": "stream",
     "text": [
      "a小于b 和 c小于等于d 同时成立\n"
     ]
    }
   ],
   "source": [
    "if a < b or c <= d:\n",
    "    print(\"a小于b 和 c小于等于d 同时成立\")\n",
    "if a > b or c <= d:\n",
    "    print(\"a大于b 和 c小于等于d 同时成立\")"
   ]
  },
  {
   "cell_type": "markdown",
   "metadata": {},
   "source": [
    "- 非：取反\n",
    "\n",
    "<font color=\"blue\">动手试一下：</font>"
   ]
  },
  {
   "cell_type": "code",
   "execution_count": 50,
   "metadata": {},
   "outputs": [
    {
     "name": "stdout",
     "output_type": "stream",
     "text": [
      "a大于等于b 不成立\n"
     ]
    }
   ],
   "source": [
    "if not a < b:\n",
    "    print(\"a小于b 不成立\")\n",
    "if not a >= b:\n",
    "    print(\"a大于等于b 不成立\")"
   ]
  },
  {
   "cell_type": "markdown",
   "metadata": {},
   "source": [
    "## 成员运算\n",
    "\n",
    "判断列表是否包含某个元素\n",
    "\n",
    "<font color=\"blue\">动手试一下：</font>"
   ]
  },
  {
   "cell_type": "code",
   "execution_count": 51,
   "metadata": {},
   "outputs": [
    {
     "name": "stdout",
     "output_type": "stream",
     "text": [
      "2在列表1中\n",
      "H在列表2中\n"
     ]
    }
   ],
   "source": [
    "list1 = [\"你好\", 2 , \"华科\", 3]  # 列表用中括号[]\n",
    "list2 = [\"Hello\", 'HUST']\n",
    "if 2 in list1:\n",
    "    print(\"2在列表1中\")\n",
    "else:\n",
    "    print(\"2不在列表1中\")\n",
    "    \n",
    "if 'H' not in list2[0]:\n",
    "    print(\"H不在列表2中\")\n",
    "else:\n",
    "    print(\"H在列表2中\")"
   ]
  },
  {
   "cell_type": "markdown",
   "metadata": {},
   "source": [
    "# 6 循环\n",
    "\n",
    "- while循环\n",
    "\n",
    "<font color=\"blue\">动手试一下：</font>"
   ]
  },
  {
   "cell_type": "code",
   "execution_count": 83,
   "metadata": {},
   "outputs": [
    {
     "name": "stdout",
     "output_type": "stream",
     "text": [
      "0\n",
      "1\n",
      "2\n",
      "3\n",
      "4\n"
     ]
    }
   ],
   "source": [
    "i = 0\n",
    "while i < 5:\n",
    "    print(i)\n",
    "    i += 1     # i = i + 1"
   ]
  },
  {
   "cell_type": "markdown",
   "metadata": {},
   "source": [
    "- for循环\n",
    "\n",
    "<font color=\"blue\">动手试一下：</font>"
   ]
  },
  {
   "cell_type": "code",
   "execution_count": 116,
   "metadata": {},
   "outputs": [
    {
     "name": "stdout",
     "output_type": "stream",
     "text": [
      "0\n",
      "1\n",
      "4\n",
      "9\n",
      "16\n"
     ]
    }
   ],
   "source": [
    "for i in range(5):  # range可以很方便的构建列表 range(5) = [0, 1, 2, 3, 4]\n",
    "    print(i**2)"
   ]
  },
  {
   "cell_type": "code",
   "execution_count": 87,
   "metadata": {},
   "outputs": [
    {
     "name": "stdout",
     "output_type": "stream",
     "text": [
      "0\n",
      "2\n",
      "4\n"
     ]
    }
   ],
   "source": [
    "for i in range(0,5,2):  # range(0,5,2) = [0, 2, 4] 0是开始数 5是结束数（不包括） 相邻两数差为2\n",
    "    print(i)"
   ]
  },
  {
   "cell_type": "markdown",
   "metadata": {},
   "source": [
    "- `break`跳出循环，循环的剩余部分不再执行\n",
    "\n",
    "<font color=\"blue\">动手试一下：</font>"
   ]
  },
  {
   "cell_type": "code",
   "execution_count": 138,
   "metadata": {},
   "outputs": [
    {
     "name": "stdout",
     "output_type": "stream",
     "text": [
      "0\n",
      "1\n",
      "2\n",
      "3\n"
     ]
    }
   ],
   "source": [
    "for i in range(5):  # range(5) = [0, 1, 2, 3, 4]\n",
    "    print(i)\n",
    "    if i == 3:\n",
    "        break"
   ]
  },
  {
   "cell_type": "markdown",
   "metadata": {},
   "source": [
    "- `continue`忽略本轮循环剩余部分\n",
    "\n",
    "<font color=\"blue\">动手试一下：</font>"
   ]
  },
  {
   "cell_type": "code",
   "execution_count": 90,
   "metadata": {},
   "outputs": [
    {
     "name": "stdout",
     "output_type": "stream",
     "text": [
      "0\n",
      "1\n",
      "2\n",
      "4\n"
     ]
    }
   ],
   "source": [
    "for i in range(5):  # range(5) = [0, 1, 2, 3, 4]\n",
    "    if i == 3:\n",
    "        continue\n",
    "    print(i)"
   ]
  },
  {
   "cell_type": "markdown",
   "metadata": {},
   "source": [
    "# 7. 字符串"
   ]
  },
  {
   "cell_type": "markdown",
   "metadata": {},
   "source": [
    "前面已经见过字符串的简单操作"
   ]
  },
  {
   "cell_type": "code",
   "execution_count": 137,
   "metadata": {},
   "outputs": [
    {
     "name": "stdout",
     "output_type": "stream",
     "text": [
      "你好，华科！\n",
      "6\n",
      "你\n",
      "，华科\n",
      "，华科！\n",
      "你好，华科！你好，华科！\n",
      "你好，华科！你好，武汉！\n"
     ]
    }
   ],
   "source": [
    "str = \"你好，华科！\"         # 一共6个字符 0:你 1:好 2:，3:华 4:科 5:！\n",
    "print(str)                 # 完整字符串\n",
    "print(len(str))            # 字符串长度\n",
    "print(str[0])              # 字符串中的第一个字符\n",
    "print(str[2:5])            # 字符串中第3~5个\n",
    "print(str[2:])             # 从第3个字符开始到结束\n",
    "print(str * 2)             # 输出字符串两次\n",
    "print(str + \"你好，武汉！\")  # 连接字符串 上一个例子已经用过"
   ]
  },
  {
   "cell_type": "markdown",
   "metadata": {},
   "source": [
    "## 替换\n",
    "\n",
    "<font color=\"blue\">动手试一下：</font>"
   ]
  },
  {
   "cell_type": "code",
   "execution_count": 136,
   "metadata": {},
   "outputs": [
    {
     "name": "stdout",
     "output_type": "stream",
     "text": [
      "Hello，华科！Hello，武汉！\n",
      "Hello，华科！你好，武汉！\n"
     ]
    }
   ],
   "source": [
    "str = \"你好，华科！你好，武汉！\" \n",
    "str2 = str.replace(\"你好\", \"Hello\")\n",
    "print(str2)\n",
    "str3 = str.replace(\"你好\", \"Hello\", 1)  # 第三个参数指定替换次数\n",
    "print(str3)"
   ]
  },
  {
   "cell_type": "markdown",
   "metadata": {},
   "source": [
    "同样通过按tab健提示可以看看字符串还有哪些函数\n",
    "\n",
    "![tab](img/9.png)\n",
    "\n",
    "## 查找\n",
    "\n",
    "<font color=\"blue\">动手试一下：</font>"
   ]
  },
  {
   "cell_type": "code",
   "execution_count": 106,
   "metadata": {},
   "outputs": [
    {
     "name": "stdout",
     "output_type": "stream",
     "text": [
      "3\n",
      "-1\n"
     ]
    }
   ],
   "source": [
    "str = \"你好，华科！你好，武汉！你好，湖北！你好，中国！\" \n",
    "print(str.find(\"华科\"))      # 找到子串则返回子串首字符在原字符串中的下标\n",
    "print(str.find(\"华科大\"))    # 找不到返回-1"
   ]
  },
  {
   "cell_type": "markdown",
   "metadata": {},
   "source": [
    "## 分割\n",
    "\n",
    "<font color=\"blue\">动手试一下：</font>"
   ]
  },
  {
   "cell_type": "code",
   "execution_count": 382,
   "metadata": {},
   "outputs": [
    {
     "name": "stdout",
     "output_type": "stream",
     "text": [
      "你好，华科\n",
      "你好，武汉\n",
      "你好，湖北\n",
      "你好，中国\n",
      "\n"
     ]
    }
   ],
   "source": [
    "str = \"你好，华科！你好，武汉！你好，湖北！你好，中国！\" \n",
    "str2 = str.split('！')  # 以！对字符串str进行分割\n",
    "for a in str2:\n",
    "    print(a)"
   ]
  },
  {
   "cell_type": "markdown",
   "metadata": {},
   "source": [
    "## 合并\n",
    "\n",
    "<font color=\"blue\">动手试一下：</font>"
   ]
  },
  {
   "cell_type": "code",
   "execution_count": 384,
   "metadata": {},
   "outputs": [
    {
     "data": {
      "text/plain": [
       "'你好，华科！你好，武汉！你好，湖北！你好，中国！'"
      ]
     },
     "execution_count": 384,
     "metadata": {},
     "output_type": "execute_result"
    }
   ],
   "source": [
    "str_list = [\"你好，华科\", \"你好，武汉\", \"你好，湖北\", \"你好，中国\", \"\"]\n",
    "\"！\".join(str_list)  # 以！为分隔符，将str_list中的所有字符串合并起来 多用于将路径合并成完整路径"
   ]
  },
  {
   "cell_type": "markdown",
   "metadata": {},
   "source": [
    "## 正则表达式\n",
    "\n",
    "正则表达式（Regular Expression）是**描述某种规则的表达式**，通常被用来**检索或替换那些符合某个模式的文本**，比上面的精确匹配更强大\n",
    "\n",
    "---\n",
    "下面是一个识别合法ip的例子，注意ip由4个0-255的数字组成，因此每个数字有三种可能：\n",
    "- 非零个位数，因此是`[1-9]`\n",
    "- 两位是，十位不能是0，因此是`[1-9][0-9]`\n",
    "- 三位数，百位只能是1或2，因此是`[1-2][0-9][0-9]`\n",
    "\n",
    "<font color=\"blue\">动手试一下：</font>"
   ]
  },
  {
   "cell_type": "code",
   "execution_count": 374,
   "metadata": {},
   "outputs": [
    {
     "data": {
      "text/plain": [
       "('192', '168', '1', '100')"
      ]
     },
     "execution_count": 374,
     "metadata": {},
     "output_type": "execute_result"
    }
   ],
   "source": [
    "import re  # 导入python自带的re模块\n",
    "\n",
    "str = '192.168.1.100'\n",
    "m = re.match('([1-9]|[1-9][0-9]|[1-2][0-9][0-9])\\.([1-9]|[1-9][0-9]|[1-2][0-9][0-9])\\.([1-9]|[1-9][0-9]|[1-2][0-9][0-9])\\.([1-9]|[1-9][0-9]|[1-2][0-9][0-9])$', str)\n",
    "m.groups()"
   ]
  },
  {
   "cell_type": "markdown",
   "metadata": {},
   "source": [
    "`|`表示或，因为每个数字有三种合法的形式；`\\.`表示点号本身，因为点号在正则表达式中表示任意字符，需要反斜杠转义\n",
    "\n",
    "---\n",
    "\n",
    "下面是一个从字符串列表中提取手机号和身份信息的例子，由于有的手机号有区号，有的没区号，身份信息有的用身份证，有的用护照，所以只能求助于正则表达式\n",
    "\n",
    "<font color=\"blue\">动手试一下：</font>"
   ]
  },
  {
   "cell_type": "code",
   "execution_count": 371,
   "metadata": {},
   "outputs": [
    {
     "name": "stdout",
     "output_type": "stream",
     "text": [
      "小平的手机号1389876543，身份证号320811190012344321。\n",
      "小强的手机号+861591234567，身份证号40140511200056788765。\n",
      "Trump的手机号+1-222-333-4444，护照号E12345789。\n"
     ]
    }
   ],
   "source": [
    "list = [\"小平的手机号1389876543，身份证号320811190012344321。\",\n",
    "        \"小强的手机号+861591234567，身份证号40140511200056788765。\",\n",
    "        \"Trump的手机号+1-222-333-4444，护照号E12345789。\"]\n",
    "for str in list:\n",
    "    print(str)"
   ]
  },
  {
   "cell_type": "code",
   "execution_count": 373,
   "metadata": {},
   "outputs": [
    {
     "name": "stdout",
     "output_type": "stream",
     "text": [
      "['1389876543']\n",
      "['+861591234567']\n",
      "['+1-222-333-4444']\n",
      "-----------------------------------------\n",
      "['320811190012344321']\n",
      "['401405112000567887']\n",
      "['E12345789']\n"
     ]
    }
   ],
   "source": [
    "pattern = re.compile(r'([1+][0-9-]*)，')  # 手机号匹配模式\n",
    "for str in list:\n",
    "    r = pattern.findall(str)  # findall查找所有的匹配\n",
    "    print(r)\n",
    "print(\"-----------------------------------------\")\n",
    "pattern = re.compile(r'号([0-9]{18}|[A-Z][0-9]{8})')   # 身份信息匹配模式 {}中的数字表示前面[]中的模式出现的次数\n",
    "for str in list:\n",
    "    r = pattern.findall(str)  # findall查找所有的匹配\n",
    "    print(r)"
   ]
  },
  {
   "cell_type": "markdown",
   "metadata": {},
   "source": [
    "- 手机号匹配模式是`([1+][0-9-]*)，`，表示以`1`或`+`起始，以`，`结束，由数字`0-9`和`-`构成的字符串序列\n",
    "- 身份信息匹配模式是`([0-9]{18})`，表示18位身份证数字；或者`([A-Z][0-9]{8})`，表示1位字母加8位数字的9位护照\n",
    "\n",
    "---\n",
    "下面是一个删掉注释的例子\n",
    "\n",
    "<font color=\"blue\">动手试一下：</font>"
   ]
  },
  {
   "cell_type": "code",
   "execution_count": 376,
   "metadata": {},
   "outputs": [
    {
     "name": "stdout",
     "output_type": "stream",
     "text": [
      "小平的手机号1389876543，身份证号320811190012344321。\n",
      "小强的手机号+861591234567，身份证号40140511200056788765。 # +86是中国区号\n",
      "Trump的手机号+1-222-333-4444，护照号E12345789。 # 外国友人没有身份证\n",
      "-----------------------------------------\n",
      "小平的手机号1389876543，身份证号320811190012344321。\n",
      "小强的手机号+861591234567，身份证号40140511200056788765。 \n",
      "Trump的手机号+1-222-333-4444，护照号E12345789。 \n"
     ]
    }
   ],
   "source": [
    "list = [\"小平的手机号1389876543，身份证号320811190012344321。\",\n",
    "        \"小强的手机号+861591234567，身份证号40140511200056788765。 # +86是中国区号\",\n",
    "        \"Trump的手机号+1-222-333-4444，护照号E12345789。 # 外国友人没有身份证\"]\n",
    "for str in list:\n",
    "    print(str)\n",
    "print(\"-----------------------------------------\")\n",
    "pattern = re.compile(r'#.*$')    # .表示任意字符 #.*表示#打头任意长的字符串\n",
    "for str in list:\n",
    "    print(pattern.sub(\"\", str))  # sub将所有匹配替换为空字符串 即删掉注释"
   ]
  },
  {
   "cell_type": "markdown",
   "metadata": {},
   "source": [
    "`.`表示任意字符，`$`表示字符串结尾，因此`#.*$`表示`#`打头任意长的字符串"
   ]
  },
  {
   "cell_type": "markdown",
   "metadata": {},
   "source": [
    "# 8. 文件操作\n",
    "\n",
    "## 文本文件\n",
    "\n",
    "- 读文件\n",
    "\n",
    "<font color=\"blue\">动手试一下：</font>"
   ]
  },
  {
   "cell_type": "code",
   "execution_count": 179,
   "metadata": {},
   "outputs": [
    {
     "name": "stdout",
     "output_type": "stream",
     "text": [
      "print(\"你好，华科！\")\n",
      "\n",
      "print(2+3)\n",
      "\n"
     ]
    }
   ],
   "source": [
    "with open(\"files/untitled.py\", \"r\", encoding=\"utf-8\") as read_file:  # r表示以只读的方式打开\n",
    "    for line in read_file:  # 一行一行读\n",
    "        print(line)"
   ]
  },
  {
   "cell_type": "markdown",
   "metadata": {},
   "source": [
    "- 写文件\n",
    "\n",
    "<font color=\"blue\">动手试一下：</font>"
   ]
  },
  {
   "cell_type": "code",
   "execution_count": 182,
   "metadata": {},
   "outputs": [],
   "source": [
    "with open(\"files/untitled.py\", \"w+\", encoding=\"utf-8\") as write_file:  # w表示以可写入的方式打开\n",
    "    write_file.write(\"for i in range(5):\\n\")\n",
    "    write_file.write(\"    print(i**2)\\n\")"
   ]
  },
  {
   "cell_type": "markdown",
   "metadata": {},
   "source": [
    "![write](img/12.png)"
   ]
  },
  {
   "cell_type": "markdown",
   "metadata": {},
   "source": [
    "不难发现原来的两条打印语句被覆盖了，只剩下新写入的两条语句了，如果想保留原有内容，要用**追加模式**打开文件\n",
    "\n",
    "<font color=\"blue\">动手试一下：</font>"
   ]
  },
  {
   "cell_type": "code",
   "execution_count": 385,
   "metadata": {},
   "outputs": [],
   "source": [
    "with open(\"files/untitled.py\", \"a+\", encoding=\"utf-8\") as write_file:  # a+ 追加模式 append\n",
    "    write_file.write(\"print(\\\"你好，华科！\\\")\\n\")  # \\\"对双引号转义\n",
    "    write_file.write(\"print(2+3)\\n\")"
   ]
  },
  {
   "cell_type": "markdown",
   "metadata": {},
   "source": [
    "![a+](img/13.png)"
   ]
  },
  {
   "cell_type": "markdown",
   "metadata": {},
   "source": [
    "## Excel表格\n",
    "\n",
    "Python可以处理Excel表格，这需要依赖第三方库 python-xlrd 和 python-xlwt，分别用来读Excel和写Excel\n",
    "- Windows下可以通过Anaconda安装，**不推荐用pip安装**\n",
    "- 类Unix系统下用系统自带的包管理器安装即可，例如Arch系用`sudo pacman -S python-xlrd python-xlwt`\n",
    "\n",
    "![xlrd-xlwt-install](img/14.png)\n",
    "\n",
    "![sheet 1](img/15.png)\n",
    "\n",
    "<font color=\"blue\">动手试一下：</font>"
   ]
  },
  {
   "cell_type": "code",
   "execution_count": 196,
   "metadata": {},
   "outputs": [
    {
     "name": "stdout",
     "output_type": "stream",
     "text": [
      "6 5\n",
      "[1.0, 2.0, 3.0, 4.0, 5.0]\n",
      "[6.0, 7.0, 8.0, 9.0, 10.0]\n",
      "[11.0, 12.0, 13.0, 14.0, 15.0]\n",
      "[16.0, 17.0, 18.0, 19.0, 20.0]\n",
      "[21.0, 22.0, 23.0, 24.0, 25.0]\n",
      "[26.0, 27.0, 28.0, 29.0, 30.0]\n",
      "-----------------------------------------\n",
      "[1.0, 6.0, 11.0, 16.0, 21.0, 26.0]\n",
      "[2.0, 7.0, 12.0, 17.0, 22.0, 27.0]\n",
      "[3.0, 8.0, 13.0, 18.0, 23.0, 28.0]\n",
      "[4.0, 9.0, 14.0, 19.0, 24.0, 29.0]\n",
      "[5.0, 10.0, 15.0, 20.0, 25.0, 30.0]\n",
      "-----------------------------------------\n"
     ]
    },
    {
     "data": {
      "text/plain": [
       "14.0"
      ]
     },
     "execution_count": 196,
     "metadata": {},
     "output_type": "execute_result"
    }
   ],
   "source": [
    "import xlrd\n",
    "data = xlrd.open_workbook('files/exam.xlsx')\n",
    "table = data.sheet_by_name('Sheet1')   # 获取sheet 1\n",
    "print(table.nrows, table.ncols)        # 行数 列数\n",
    "\n",
    "for i in range(table.nrows):\n",
    "    print(table.row_values(i))         # 打印第i行的值\n",
    "print(\"-----------------------------------------\")\n",
    "for j in range(table.ncols):\n",
    "    print(table.col_values(j))         # 打印第j列的值\n",
    "print(\"-----------------------------------------\")\n",
    "table.cell(2,3).value                  # 打印第3行第4列的单元格值"
   ]
  },
  {
   "cell_type": "markdown",
   "metadata": {},
   "source": [
    "---"
   ]
  },
  {
   "cell_type": "code",
   "execution_count": 206,
   "metadata": {},
   "outputs": [],
   "source": [
    "import xlwt\n",
    "workbook = xlwt.Workbook()\n",
    "worksheet = workbook.add_sheet('My Sheet')\n",
    "font = xlwt.Font() # Create the Font\n",
    "font.name = '方正苏新诗柳楷简体-yolan'\n",
    "font.bold = True\n",
    "font.underline = True\n",
    "font.italic = True\n",
    "style = xlwt.XFStyle()                 # 创建字体样式\n",
    "style.font = font                      \n",
    "worksheet.write(0, 0, '你好，')\n",
    "worksheet.write(0, 1, '华科！', style)  # 应用字体样式到该单元格\n",
    "workbook.save('files/exam.xls')"
   ]
  },
  {
   "cell_type": "markdown",
   "metadata": {},
   "source": [
    "![xlwt](img/16.png)"
   ]
  },
  {
   "cell_type": "markdown",
   "metadata": {},
   "source": [
    "# 9. 常用第三方库\n",
    "\n",
    "## NumPy\n",
    "\n",
    "NumPy（Numerical Python）支持高维数组和矩阵运算，提供大量的数学函数库，安装方法与前面的python-xlrd类似\n",
    "\n",
    "和，均值，标准差\n",
    "\n",
    "<font color=\"blue\">动手试一下：</font>"
   ]
  },
  {
   "cell_type": "code",
   "execution_count": 267,
   "metadata": {},
   "outputs": [
    {
     "data": {
      "text/plain": [
       "(10, 2.5, 1.118033988749895)"
      ]
     },
     "execution_count": 267,
     "metadata": {},
     "output_type": "execute_result"
    }
   ],
   "source": [
    "import numpy as np\n",
    "\n",
    "a = np.array([2, 4, 1, 3])  # 将列表转换成数组\n",
    "sum(a), np.mean(a), np.std(a)"
   ]
  },
  {
   "cell_type": "code",
   "execution_count": 268,
   "metadata": {},
   "outputs": [
    {
     "data": {
      "text/plain": [
       "array([2, 0, 3, 1])"
      ]
     },
     "execution_count": 268,
     "metadata": {},
     "output_type": "execute_result"
    }
   ],
   "source": [
    "b = np.argsort(a)\n",
    "b"
   ]
  },
  {
   "cell_type": "markdown",
   "metadata": {},
   "source": [
    "numpy数组的排序功能比Python自带的列表要强，`argsort`返回的是元素的在排序后新列表中的位置，例如第二个元素0代表4是最大的，应该排在新列表中的最前面"
   ]
  },
  {
   "cell_type": "markdown",
   "metadata": {},
   "source": [
    "二维数组\n",
    "\n",
    "<font color=\"blue\">动手试一下：</font>"
   ]
  },
  {
   "cell_type": "code",
   "execution_count": 264,
   "metadata": {},
   "outputs": [
    {
     "data": {
      "text/plain": [
       "array([[2, 4, 6],\n",
       "       [5, 3, 1]])"
      ]
     },
     "execution_count": 264,
     "metadata": {},
     "output_type": "execute_result"
    }
   ],
   "source": [
    "a = np.array([[2, 4, 6], [5, 3, 1]])  # 将列表转换成数组\n",
    "a"
   ]
  },
  {
   "cell_type": "markdown",
   "metadata": {},
   "source": [
    "二维数组全部元素求和，竖向求和，横向求和\n",
    "\n",
    "<font color=\"blue\">动手试一下：</font>"
   ]
  },
  {
   "cell_type": "code",
   "execution_count": 265,
   "metadata": {},
   "outputs": [
    {
     "data": {
      "text/plain": [
       "(21, array([7, 7, 7]), array([12,  9]))"
      ]
     },
     "execution_count": 265,
     "metadata": {},
     "output_type": "execute_result"
    }
   ],
   "source": [
    "np.sum(a), np.sum(a, axis=0), np.sum(a, axis=1)"
   ]
  },
  {
   "cell_type": "markdown",
   "metadata": {},
   "source": [
    "改变形状\n",
    "\n",
    "<font color=\"blue\">动手试一下：</font>"
   ]
  },
  {
   "cell_type": "code",
   "execution_count": 252,
   "metadata": {},
   "outputs": [
    {
     "data": {
      "text/plain": [
       "array([[2, 4],\n",
       "       [6, 5],\n",
       "       [3, 1]])"
      ]
     },
     "execution_count": 252,
     "metadata": {},
     "output_type": "execute_result"
    }
   ],
   "source": [
    "b = np.reshape(a, (3, 2))  # 转成3行2列\n",
    "b"
   ]
  },
  {
   "cell_type": "markdown",
   "metadata": {},
   "source": [
    "有了强大的二维数组处理工具，可以将Excel表格中的数据全部导入Python中，用NumPy进行复杂的逻辑处理后，再写回到Excel中"
   ]
  },
  {
   "cell_type": "markdown",
   "metadata": {},
   "source": [
    "## Matplotlib\n",
    "\n",
    "最常用的绘图库\n",
    "\n",
    "<font color=\"blue\">动手试一下：</font>"
   ]
  },
  {
   "cell_type": "code",
   "execution_count": 313,
   "metadata": {},
   "outputs": [
    {
     "data": {
      "image/png": "[encoded data removed]",
      "text/plain": [
       "<Figure size 432x288 with 1 Axes>"
      ]
     },
     "metadata": {
      "needs_background": "light"
     },
     "output_type": "display_data"
    }
   ],
   "source": [
    "# 画曲线走势\n",
    "%matplotlib inline\n",
    "import math \n",
    "import numpy as np \n",
    "from matplotlib import pyplot as plt \n",
    " \n",
    "x = np.arange(-2*math.pi, 2*math.pi, 0.01) \n",
    "y = []  \n",
    "z = []\n",
    "for i in range(len(x)): \n",
    "    y.append(math.sin(x[i])) \n",
    "    z.append(math.cos(x[i]))\n",
    "    i += 1\n",
    "    \n",
    "plt.title(\"$y = sin(x),~z = cos(x)$\") \n",
    "plt.xlabel(\"x axis\") \n",
    "plt.ylabel(\"y axis\")\n",
    "plt.plot(x,y) \n",
    "plt.plot(x,z) \n",
    "plt.show()"
   ]
  },
  {
   "cell_type": "code",
   "execution_count": 306,
   "metadata": {},
   "outputs": [
    {
     "data": {
      "image/png": "[encoded data removed]",
      "text/plain": [
       "<Figure size 432x288 with 1 Axes>"
      ]
     },
     "metadata": {},
     "output_type": "display_data"
    }
   ],
   "source": [
    "# 画饼状图\n",
    "%matplotlib inline\n",
    "import matplotlib.pyplot as plt\n",
    "\n",
    "labels = 'a', 'b', 'c', 'd'\n",
    "sizes = [15, 30, 45, 10]    # 百分比\n",
    "explode = (0.1, 0.1, 0, 0)  # a, b 饼块突出显示\n",
    "\n",
    "plt.pie(sizes, explode=explode, labels=labels, autopct='%1.1f%%', shadow=False, startangle=90)\n",
    "plt.axis('equal')\n",
    "\n",
    "plt.show()"
   ]
  },
  {
   "cell_type": "code",
   "execution_count": 339,
   "metadata": {},
   "outputs": [
    {
     "data": {
      "image/png": "[encoded data removed]",
      "text/plain": [
       "<Figure size 432x288 with 1 Axes>"
      ]
     },
     "metadata": {
      "needs_background": "light"
     },
     "output_type": "display_data"
    }
   ],
   "source": [
    "# 画条形图\n",
    "%matplotlib inline\n",
    "import matplotlib\n",
    "import numpy as np\n",
    "import matplotlib.pyplot as plt\n",
    "\n",
    "np.random.seed(19680801)\n",
    "\n",
    "mu = 100    # 正态分布均值\n",
    "sigma = 15  # 正态分布标准差\n",
    "x = mu + sigma * np.random.randn(10000)\n",
    "\n",
    "num_bins = 200\n",
    "\n",
    "n, bins, patches = plt.hist(x, num_bins, density=1)\n",
    "\n",
    "y = ((1 / (np.sqrt(2 * np.pi) * sigma)) * np.exp(-0.5 * (1 / sigma * (bins - mu))**2))  # 正态分布函数\n",
    "plt.plot(bins, y, '--')\n",
    "plt.xlabel('x')\n",
    "plt.ylabel('y')\n",
    "plt.title(r'Histogram of normal distribution: $\\mu=100$, $\\sigma=15$')\n",
    "plt.show()"
   ]
  },
  {
   "cell_type": "markdown",
   "metadata": {},
   "source": [
    "## SciKit-Learn\n",
    "\n",
    "最流行的机器学习库，几乎包含所有经典的机器学习算法\n",
    "\n",
    "<font color=\"blue\">动手试一下：</font>"
   ]
  },
  {
   "cell_type": "code",
   "execution_count": 378,
   "metadata": {},
   "outputs": [
    {
     "data": {
      "image/png": "[encoded data removed]",
      "text/plain": [
       "<Figure size 432x288 with 1 Axes>"
      ]
     },
     "metadata": {
      "needs_background": "light"
     },
     "output_type": "display_data"
    }
   ],
   "source": [
    "# 线性回归：用线性函数拟合数据\n",
    "%matplotlib inline\n",
    "import sklearn\n",
    "import numpy as np\n",
    "import matplotlib.pyplot as plt\n",
    "from sklearn.linear_model import LinearRegression\n",
    "\n",
    "x = np.array([6, 8, 10, 14, 18]).reshape(-1, 1)  # 5个样本点构成的数据集\n",
    "y = [7, 9, 13, 17.5, 18]\n",
    "\n",
    "model = LinearRegression()  # 选择学习模型：线性回归\n",
    "model.fit(x, y)             # 拟合数据\n",
    "\n",
    "xx = np.arange(5, 20, 1).reshape(-1, 1)\n",
    "yy = []  \n",
    "for i in range(len(xx)): \n",
    "    yy.append(model.predict(np.array([xx[i]])))  # 线性回归模型\n",
    "    i += 1\n",
    "    \n",
    "plt.figure()\n",
    "plt.title(\"linear regression\")\n",
    "plt.xlabel(\"x\")\n",
    "plt.ylabel(\"y\")\n",
    "plt.plot(x, y, \"k.\")\n",
    "plt.plot(xx, yy)\n",
    "plt.grid(True)\n",
    "plt.show()"
   ]
  },
  {
   "cell_type": "markdown",
   "metadata": {},
   "source": [
    "# 10. 总结\n",
    "\n",
    "在短短的几小时里想讲清楚Python的方方面面是不可能的，所以这个slides只选择性地介绍了一些我觉得会对大家有用的内容\n",
    "\n",
    "有些不难理解的内容比如**函数**，它的作用只是提高代码复用率，这里就略过了；比较有难度的内容大多也是浅尝辄止没有深入，比如正则表达式，还有最后这几个经典的第三方库。如果把一门科普课上成劝退课，就有违初衷了\n",
    "\n",
    "俗话说“师父领进门修行在个人”，今后还要靠大家自己深入钻研。一门语言初接触肯定会有些许不顺手，但此时千万不能知难而退，一旦退了就永远也学不会了。挺过前面短暂的阵痛期，后面就是康庄大道\n",
    "\n",
    "祝在座的各位朋友今后都成为能熟用Python解决问题的业务能手！"
   ]
  }
 ],
 "metadata": {
  "kernelspec": {
   "display_name": "Python 3",
   "language": "python",
   "name": "python3"
  },
  "language_info": {
   "codemirror_mode": {
    "name": "ipython",
    "version": 3
   },
   "file_extension": ".py",
   "mimetype": "text/x-python",
   "name": "python",
   "nbconvert_exporter": "python",
   "pygments_lexer": "ipython3",
   "version": "3.8.0"
  }
 },
 "nbformat": 4,
 "nbformat_minor": 4
}
